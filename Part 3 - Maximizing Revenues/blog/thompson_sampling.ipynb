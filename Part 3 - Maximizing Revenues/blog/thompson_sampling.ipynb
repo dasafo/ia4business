{
  "nbformat": 4,
  "nbformat_minor": 0,
  "metadata": {
    "colab": {
      "name": "thompson_sampling.ipynb",
      "provenance": []
    },
    "kernelspec": {
      "name": "python3",
      "display_name": "Python 3"
    }
  },
  "cells": [
    {
      "cell_type": "markdown",
      "metadata": {
        "id": "SYpKd-x9bx3H",
        "colab_type": "text"
      },
      "source": [
        "# Inteligencia Artifical aplicada a Negocios y Empresas"
      ]
    },
    {
      "cell_type": "markdown",
      "metadata": {
        "id": "IpIUXs8lb3BR",
        "colab_type": "text"
      },
      "source": [
        "# Maximizacion de beneficios de una empresa de venta online con Muestreo de Thompson\n"
      ]
    },
    {
      "cell_type": "markdown",
      "metadata": {
        "id": "rLVrhBlsb9Gk",
        "colab_type": "text"
      },
      "source": [
        "## Importar las librerias"
      ]
    },
    {
      "cell_type": "code",
      "metadata": {
        "id": "kDrKmHJVcCYE",
        "colab_type": "code",
        "colab": {}
      },
      "source": [
        "import numpy as np\n",
        "import matplotlib.pyplot as plt\n",
        "import random"
      ],
      "execution_count": 1,
      "outputs": []
    },
    {
      "cell_type": "markdown",
      "metadata": {
        "id": "24v_0kOScGIs",
        "colab_type": "text"
      },
      "source": [
        "# Configuracion de los parametros"
      ]
    },
    {
      "cell_type": "code",
      "metadata": {
        "id": "wNGyCjmvcE8e",
        "colab_type": "code",
        "colab": {}
      },
      "source": [
        "N = 10000\n",
        "d = 9"
      ],
      "execution_count": 2,
      "outputs": []
    },
    {
      "cell_type": "markdown",
      "metadata": {
        "id": "BBxuxkJEcLQ2",
        "colab_type": "text"
      },
      "source": [
        "# Creacion de la simulacion"
      ]
    },
    {
      "cell_type": "code",
      "metadata": {
        "id": "5ZQtyKg6cPxX",
        "colab_type": "code",
        "colab": {}
      },
      "source": [
        "# conversion_rates = [0.1, 0.2, 0.3, 0.4, 0.5, 0.6, 0.7, 0.8, 0.9]\n",
        "conversion_rates = [0.05, 0.13, 0.09, 0.16, 0.11, 0.04, 0.20, 0.08, 0.01]\n",
        "X = np.array(np.zeros([N, d]))\n",
        "for i in range(N):\n",
        "    for j in range(d):\n",
        "        if np.random.rand() <= conversion_rates[j]:\n",
        "            X[i,j] = 1"
      ],
      "execution_count": 3,
      "outputs": []
    },
    {
      "cell_type": "markdown",
      "metadata": {
        "id": "KvZTyG-9cV5i",
        "colab_type": "text"
      },
      "source": [
        "# Implementacion de la Seleccion Aleatoria y el Muestreo de Thompson\n"
      ]
    },
    {
      "cell_type": "code",
      "metadata": {
        "id": "OmoVhUJCcfFq",
        "colab_type": "code",
        "colab": {}
      },
      "source": [
        "# Implementacion de la Seleccion Aleatoria y el Muestreo de Thompson\n",
        "strategies_selected_rs = []\n",
        "strategies_selected_ts = []\n",
        "total_reward_rs = 0\n",
        "total_reward_ts = 0\n",
        "number_of_rewards_1 = [0] * d\n",
        "number_of_rewards_0 = [0] * d\n",
        "for n in range(0, N):\n",
        "    # Seleccion Aleatoria\n",
        "    strategy_rs = random.randrange(d)\n",
        "    strategies_selected_rs.append(strategy_rs)\n",
        "    reward_rs = X[n, strategy_rs]\n",
        "    total_reward_rs += reward_rs\n",
        "    # Muestreo de Thompson\n",
        "    strategy_ts = 0\n",
        "    max_random = 0\n",
        "    for i in range(0, d):\n",
        "        random_beta = random.betavariate(number_of_rewards_1[i]+1, \n",
        "                                         number_of_rewards_0[i]+1)\n",
        "        if random_beta > max_random: \n",
        "            max_random = random_beta\n",
        "            strategy_ts = i\n",
        "    reward_ts = X[n, strategy_ts]\n",
        "    if reward_ts == 1:\n",
        "        number_of_rewards_1[strategy_ts] += 1\n",
        "    else:\n",
        "        number_of_rewards_0[strategy_ts] += 1\n",
        "    strategies_selected_ts.append(strategy_ts)\n",
        "    total_reward_ts += reward_ts"
      ],
      "execution_count": 4,
      "outputs": []
    },
    {
      "cell_type": "markdown",
      "metadata": {
        "id": "bZdWl3XqciXh",
        "colab_type": "text"
      },
      "source": [
        "# Calcular le retorno relativo y absoluto"
      ]
    },
    {
      "cell_type": "code",
      "metadata": {
        "id": "GSJwOcPScmpy",
        "colab_type": "code",
        "colab": {
          "base_uri": "https://localhost:8080/",
          "height": 50
        },
        "outputId": "a000b0be-0444-466b-8a5f-f74c5baf6c4e"
      },
      "source": [
        "absolute_return = (total_reward_ts - total_reward_rs)*100\n",
        "relative_return = (total_reward_ts - total_reward_rs) / total_reward_rs * 100\n",
        "print(\"Rendimiento Absoluto: {:.0f} $\".format(absolute_return))\n",
        "print(\"Rendimiento Relativo: {:.0f} %\".format(relative_return))"
      ],
      "execution_count": 5,
      "outputs": [
        {
          "output_type": "stream",
          "text": [
            "Rendimiento Absoluto: 100600 $\n",
            "Rendimiento Relativo: 103 %\n"
          ],
          "name": "stdout"
        }
      ]
    },
    {
      "cell_type": "markdown",
      "metadata": {
        "id": "8C02aopucrRB",
        "colab_type": "text"
      },
      "source": [
        "# Representacion del histograma de selecciones"
      ]
    },
    {
      "cell_type": "code",
      "metadata": {
        "id": "zr3K-HvgcwQ-",
        "colab_type": "code",
        "colab": {
          "base_uri": "https://localhost:8080/",
          "height": 307
        },
        "outputId": "e9606afc-fc20-4f27-e11d-33874ab940d6"
      },
      "source": [
        "plt.hist(strategies_selected_ts)\n",
        "plt.title(\"Histograma de Selecciones\")\n",
        "plt.xlabel(\"Estrategia\")\n",
        "plt.ylabel(\"Numero de veces que se ha seleccionado la estrategia\")\n",
        "plt.show()\n"
      ],
      "execution_count": 6,
      "outputs": [
        {
          "output_type": "display_data",
          "data": {
            "image/png": "[encoded data removed]",
            "text/plain": [
              "<Figure size 432x288 with 1 Axes>"
            ]
          },
          "metadata": {
            "tags": [],
            "needs_background": "light"
          }
        }
      ]
    }
  ]
}