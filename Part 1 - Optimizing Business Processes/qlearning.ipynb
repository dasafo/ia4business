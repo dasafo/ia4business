{
 "cells": [
  {
   "cell_type": "markdown",
   "metadata": {},
   "source": [
    "# Inteligencia Artificial Aplicada a Negocios y Empresas\n",
    "# Parte 1 - Optimizacion de los flujos de trabajo en un almacen con Q-Learning\n",
    "\n",
    "## Importacion de las librerias"
   ]
  },
  {
   "cell_type": "code",
   "execution_count": 3,
   "metadata": {
    "attributes": {
     "classes": [],
     "id": "",
     "n": "3"
    }
   },
   "outputs": [],
   "source": [
    "import numpy as np"
   ]
  },
  {
   "cell_type": "markdown",
   "metadata": {},
   "source": [
    "## Configuracion de los parametros gamma y alpha para el algoritmo de Q-Learning"
   ]
  },
  {
   "cell_type": "code",
   "execution_count": 4,
   "metadata": {
    "attributes": {
     "classes": [],
     "id": "",
     "n": "4"
    }
   },
   "outputs": [],
   "source": [
    "gamma = 0.75\n",
    "alpha = 0.9"
   ]
  },
  {
   "cell_type": "markdown",
   "metadata": {},
   "source": [
    "# PARTE 1 - DEFINICION DEL ENTORNO\n",
    "\n",
    "## Definicion de los estados\n",
    "\n",
    "The state is the location of our robot in the warehouse."
   ]
  },
  {
   "cell_type": "code",
   "execution_count": 5,
   "metadata": {
    "attributes": {
     "classes": [],
     "id": "",
     "n": "5"
    }
   },
   "outputs": [],
   "source": [
    "location_to_state = {'A': 0,\n",
    "                     'B': 1,\n",
    "                     'C': 2,\n",
    "                     'D': 3,\n",
    "                     'E': 4,\n",
    "                     'F': 5,\n",
    "                     'G': 6, \n",
    "                     'H': 7, \n",
    "                     'I': 8,\n",
    "                     'J': 9,\n",
    "                     'K': 10,\n",
    "                     'L': 11}"
   ]
  },
  {
   "cell_type": "markdown",
   "metadata": {},
   "source": [
    "## Definicion de las acciones\n",
    "The action is the next position where our robot can move"
   ]
  },
  {
   "cell_type": "code",
   "execution_count": 6,
   "metadata": {
    "attributes": {
     "classes": [],
     "id": "",
     "n": "6"
    }
   },
   "outputs": [],
   "source": [
    "actions = [0, 1, 2, 3, 4, 5, 6, 7, 8, 9, 10, 11]"
   ]
  },
  {
   "cell_type": "markdown",
   "metadata": {},
   "source": [
    "## Definicion de las recompensas\n",
    "The Rewards are `1` or `0`, depending on whether we can move there or not.\n",
    "\n",
    "**- Columns are *The action* and the rows are *The State*:**"
   ]
  },
  {
   "cell_type": "code",
   "execution_count": 7,
   "metadata": {
    "attributes": {
     "classes": [],
     "id": "",
     "n": "7"
    }
   },
   "outputs": [],
   "source": [
    "R = np.array([[0,1,0,0,0,0,0,0,0,0,0,0], # A\n",
    "              [1,0,1,0,0,1,0,0,0,0,0,0], # B\n",
    "              [0,1,0,0,0,0,1,0,0,0,0,0], # C\n",
    "              [0,0,0,0,0,0,0,1,0,0,0,0], # D\n",
    "              [0,0,0,0,0,0,0,0,1,0,0,0], # E\n",
    "              [0,1,0,0,0,0,0,0,0,1,0,0], # F\n",
    "              [0,0,1,0,0,0,1,1,0,0,0,0], # G\n",
    "              [0,0,0,1,0,0,1,0,0,0,0,1], # H\n",
    "              [0,0,0,0,1,0,0,0,0,1,0,0], # I\n",
    "              [0,0,0,0,0,1,0,0,1,0,1,0], # J\n",
    "              [0,0,0,0,0,0,0,0,0,1,0,1], # K\n",
    "              [0,0,0,0,0,0,0,1,0,0,1,0]])# L"
   ]
  },
  {
   "cell_type": "markdown",
   "metadata": {},
   "source": [
    "# PARTE 2 - CONSTRUCCION DE LA SOLUCION DE IA CON Q-LEARNING\n",
    "\n",
    "## Transformacion inversa de estados a ubicaciones"
   ]
  },
  {
   "cell_type": "code",
   "execution_count": 8,
   "metadata": {
    "attributes": {
     "classes": [],
     "id": "",
     "n": "8"
    }
   },
   "outputs": [],
   "source": [
    "state_to_location = {state : location for location, state in location_to_state.items()}"
   ]
  },
  {
   "cell_type": "markdown",
   "metadata": {},
   "source": [
    "## Crear la funcion final que nos devuelva la ruta óptima"
   ]
  },
  {
   "cell_type": "code",
   "execution_count": 9,
   "metadata": {
    "attributes": {
     "classes": [],
     "id": "",
     "n": "9"
    }
   },
   "outputs": [],
   "source": [
    "def route(starting_location, ending_location):\n",
    "    R_new = np.copy(R)\n",
    "    ending_state = location_to_state[ending_location]\n",
    "    R_new[ending_state, ending_state] = 1000\n",
    "    \n",
    "    Q = np.array(np.zeros([12, 12]))\n",
    "    for i in range(1000):\n",
    "        current_state = np.random.randint(0, 12)\n",
    "        playable_actions = []\n",
    "        for j in range(12):\n",
    "            if R_new[current_state, j] > 0:\n",
    "                playable_actions.append(j)\n",
    "        next_state = np.random.choice(playable_actions)\n",
    "        TD = R_new[current_state, next_state] + gamma*Q[next_state, np.argmax(Q[next_state,])] - Q[current_state, next_state]\n",
    "        Q[current_state, next_state] = Q[current_state, next_state] + alpha*TD\n",
    "    \n",
    "    route = [starting_location]\n",
    "    next_location = starting_location\n",
    "    while(next_location != ending_location):\n",
    "        starting_state = location_to_state[starting_location]\n",
    "        next_state = np.argmax(Q[starting_state, ])\n",
    "        next_location = state_to_location[next_state]\n",
    "        route.append(next_location)\n",
    "        starting_location = next_location\n",
    "    return route"
   ]
  },
  {
   "cell_type": "markdown",
   "metadata": {},
   "source": [
    "# PARTE 3 - PONER EL MODELO EN PRODUCCION"
   ]
  },
  {
   "cell_type": "code",
   "execution_count": 10,
   "metadata": {
    "attributes": {
     "classes": [],
     "id": "",
     "n": "10"
    }
   },
   "outputs": [
    {
     "name": "stdout",
     "output_type": "stream",
     "text": [
      "Ruta Elegida:\n",
      "['E', 'I', 'J', 'F', 'B', 'C', 'G']\n"
     ]
    }
   ],
   "source": [
    "def best_route(starting_location, intermediary_location, ending_location):\n",
    "    return route(starting_location, intermediary_location) + route(intermediary_location, ending_location)[1:]\n",
    "\n",
    "# Imprimir la ruta final\n",
    "print(\"Ruta Elegida:\")\n",
    "print(best_route('E', 'B', 'G'))"
   ]
  }
 ],
 "metadata": {},
 "nbformat": 4,
 "nbformat_minor": 4
}
